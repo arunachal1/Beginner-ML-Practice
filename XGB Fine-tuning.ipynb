{
 "cells": [
  {
   "cell_type": "code",
   "execution_count": 8,
   "id": "fc8e5e31",
   "metadata": {},
   "outputs": [],
   "source": [
    "import pandas as pd\n",
    "from sklearn.model_selection import train_test_split\n",
    "from xgboost import XGBRegressor\n",
    "from sklearn.metrics import mean_absolute_percentage_error"
   ]
  },
  {
   "cell_type": "code",
   "execution_count": 9,
   "id": "0c03b26d",
   "metadata": {},
   "outputs": [],
   "source": [
    "df = pd.read_csv('/media/arunachal/New Volume/Certification Courses/Kaggle/melb_data.csv')\n",
    "\n",
    "cols_to_use = ['Rooms', 'Distance', 'Landsize', 'BuildingArea', 'YearBuilt']\n",
    "\n",
    "X = df[cols_to_use]\n",
    "y = df.Price\n",
    "\n",
    "X_train, X_test, y_train, y_test = train_test_split(X, y, train_size=0.8, test_size=0.2,random_state=0)"
   ]
  },
  {
   "cell_type": "code",
   "execution_count": 15,
   "id": "a2d80cd8",
   "metadata": {},
   "outputs": [],
   "source": [
    "def score(n, e=5, lr=0.1):\n",
    "    \n",
    "        model = XGBRegressor(n_estimators=n, early_stopping_rounds=e, learning_rate=lr)\n",
    "        model.fit(X_train, y_train)\n",
    "        y_pred = model.predict(X_test)\n",
    "        return mean_absolute_percentage_error(y_test, y_pred)"
   ]
  },
  {
   "cell_type": "code",
   "execution_count": 21,
   "id": "e5b69afc",
   "metadata": {},
   "outputs": [
    {
     "name": "stdout",
     "output_type": "stream",
     "text": [
      "5 0.2379271720072982\n",
      "10 0.2379271720072982\n",
      "20 0.2379271720072982\n",
      "50 0.2379271720072982\n",
      "100 0.2379271720072982\n",
      "250 0.2379271720072982\n",
      "1000 0.2379271720072982\n"
     ]
    }
   ],
   "source": [
    "for n in [5, 10, 20, 50, 100, 250, 1000]:\n",
    "    \n",
    "    print(n, score(n))"
   ]
  },
  {
   "cell_type": "code",
   "execution_count": 22,
   "id": "0363fc5c",
   "metadata": {},
   "outputs": [
    {
     "name": "stdout",
     "output_type": "stream",
     "text": [
      "1 0.2379271720072982\n",
      "2 0.2379271720072982\n",
      "5 0.2379271720072982\n",
      "10 0.2379271720072982\n",
      "25 0.2379271720072982\n",
      "50 0.2379271720072982\n",
      "100 0.2379271720072982\n"
     ]
    }
   ],
   "source": [
    "for e in [1, 2, 5, 10, 25, 50, 100]:\n",
    "    \n",
    "    print(e, score(e))"
   ]
  },
  {
   "cell_type": "code",
   "execution_count": 20,
   "id": "df4b2eda",
   "metadata": {},
   "outputs": [
    {
     "name": "stdout",
     "output_type": "stream",
     "text": [
      "0.05 0.2379271720072982\n",
      "0.1 0.2379271720072982\n",
      "0.2 0.2379271720072982\n",
      "0.5 0.2379271720072982\n",
      "1 0.2379271720072982\n",
      "10 0.2379271720072982\n",
      "100 0.2379271720072982\n"
     ]
    }
   ],
   "source": [
    "for lr in [0.05, 0.1, 0.2, 0.5, 1, 10, 100]:\n",
    "    \n",
    "    print(lr, score(lr))"
   ]
  }
 ],
 "metadata": {
  "kernelspec": {
   "display_name": "Python 3 (ipykernel)",
   "language": "python",
   "name": "python3"
  },
  "language_info": {
   "codemirror_mode": {
    "name": "ipython",
    "version": 3
   },
   "file_extension": ".py",
   "mimetype": "text/x-python",
   "name": "python",
   "nbconvert_exporter": "python",
   "pygments_lexer": "ipython3",
   "version": "3.9.7"
  }
 },
 "nbformat": 4,
 "nbformat_minor": 5
}
