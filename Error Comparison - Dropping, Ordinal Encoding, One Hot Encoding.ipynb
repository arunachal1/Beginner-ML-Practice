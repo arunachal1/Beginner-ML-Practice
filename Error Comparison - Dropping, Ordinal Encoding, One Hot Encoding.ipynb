{
 "cells": [
  {
   "cell_type": "code",
   "execution_count": 61,
   "id": "9f7d7409",
   "metadata": {},
   "outputs": [
    {
     "data": {
      "application/javascript": [
       "if (window.IPython && IPython.notebook.kernel) IPython.notebook.kernel.execute('jovian.utils.jupyter.get_notebook_name_saved = lambda: \"' + IPython.notebook.notebook_name + '\"')"
      ],
      "text/plain": [
       "<IPython.core.display.Javascript object>"
      ]
     },
     "metadata": {},
     "output_type": "display_data"
    }
   ],
   "source": [
    "import numpy as np\n",
    "import pandas as pd\n",
    "from sklearn.model_selection import train_test_split\n",
    "from sklearn.preprocessing import OrdinalEncoder, OneHotEncoder\n",
    "from sklearn.ensemble import RandomForestRegressor\n",
    "from sklearn.metrics import mean_absolute_percentage_error\n",
    "\n",
    "import jovian"
   ]
  },
  {
   "cell_type": "code",
   "execution_count": 62,
   "id": "42e3cb3d",
   "metadata": {},
   "outputs": [],
   "source": [
    "df = pd.read_csv('/media/arunachal/New Volume/Certification Courses/Kaggle/melb_data.csv')"
   ]
  },
  {
   "cell_type": "code",
   "execution_count": 63,
   "id": "86ee3e8d",
   "metadata": {},
   "outputs": [],
   "source": [
    "# list missing columns\n",
    "\n",
    "cols_missing = [col for col in df.columns if df[col].isnull().any()]\n",
    "\n",
    "# list columns with categorical data\n",
    "\n",
    "cols_categorical = [col for col in df.columns if df[col].dtype=='object']\n",
    "\n",
    "# list columns with numerical data\n",
    "\n",
    "cols_numerical = [col for col in df.columns if df[col].dtype in ['int64', 'float64']]\n",
    "\n",
    "# list columns with cardinality below 10 \n",
    "\n",
    "cols_low_cardinality = [col for col in df.columns if df[col].nunique()<10]\n",
    "\n",
    "# list columns with categorical data and cardinality < 10\n",
    "\n",
    "cols_categorical_low_cardinality = [col for col in df.columns if df[col].nunique()<10 and df[col].dtype=='object']\n",
    "\n",
    "# list columns with only numerical data and categorical data with cardinality < 10\n",
    "\n",
    "cols_cat_num = cols_categorical_low_cardinality + cols_numerical \n",
    "\n",
    "# select usable columns for OHC and fitting RandomForestRegressor\n",
    "\n",
    "my_cols = [col for col in cols_cat_num if col not in cols_missing]"
   ]
  },
  {
   "cell_type": "code",
   "execution_count": 64,
   "id": "45b40646",
   "metadata": {},
   "outputs": [],
   "source": [
    "data = df[my_cols]"
   ]
  },
  {
   "cell_type": "code",
   "execution_count": 65,
   "id": "df2789d6",
   "metadata": {},
   "outputs": [],
   "source": [
    "# separate predictor and target variables\n",
    "\n",
    "X = data.drop(['Price'], axis=1)\n",
    "y = data['Price']"
   ]
  },
  {
   "cell_type": "code",
   "execution_count": 66,
   "id": "060b97aa",
   "metadata": {},
   "outputs": [],
   "source": [
    "X_train, X_test, y_train, y_test = train_test_split(X, y, train_size=0.8, test_size=0.2, random_state=0)"
   ]
  },
  {
   "cell_type": "code",
   "execution_count": 67,
   "id": "79b5b7b2",
   "metadata": {},
   "outputs": [],
   "source": [
    "# list columns in reduced dataframe with only categorical data\n",
    "\n",
    "cols_train_categorical = [col for col in X_train.columns if X_train[col].dtype == 'object']"
   ]
  },
  {
   "cell_type": "code",
   "execution_count": 68,
   "id": "ce7d7c4a",
   "metadata": {},
   "outputs": [],
   "source": [
    "# return MAPE for differently encoded datasets \n",
    "\n",
    "def score(X_train, X_test, y_train, y_test):\n",
    "    \n",
    "    model = RandomForestRegressor(n_estimators=100, random_state=0)\n",
    "    model.fit(X_train, y_train)\n",
    "    y_pred = model.predict(X_test)\n",
    "    \n",
    "    return mean_absolute_percentage_error(y_test, y_pred)"
   ]
  },
  {
   "cell_type": "code",
   "execution_count": 69,
   "id": "da7e9491",
   "metadata": {},
   "outputs": [
    {
     "data": {
      "text/plain": [
       "0.16426659861408727"
      ]
     },
     "execution_count": 69,
     "metadata": {},
     "output_type": "execute_result"
    }
   ],
   "source": [
    "# return MAPE after dropping columns with categorical data\n",
    "\n",
    "X_train_drop = X_train.select_dtypes(exclude = 'object')\n",
    "X_test_drop = X_test.select_dtypes(exclude = 'object')\n",
    "\n",
    "score(X_train_drop, X_test_drop, y_train, y_test)"
   ]
  },
  {
   "cell_type": "code",
   "execution_count": 70,
   "id": "2b497e77",
   "metadata": {},
   "outputs": [
    {
     "data": {
      "text/plain": [
       "0.15308848822388954"
      ]
     },
     "execution_count": 70,
     "metadata": {},
     "output_type": "execute_result"
    }
   ],
   "source": [
    "# return MAPE after ordinal encoding columns with categorical data\n",
    "\n",
    "X_train_ordinal = X_train.copy()\n",
    "X_test_ordinal = X_test.copy()\n",
    "\n",
    "ordinal_encoder = OrdinalEncoder()\n",
    "\n",
    "X_train_ordinal[cols_train_categorical] = ordinal_encoder.fit_transform(X_train[cols_train_categorical])\n",
    "X_test_ordinal[cols_train_categorical] = ordinal_encoder.fit_transform(X_test[cols_train_categorical])\n",
    "\n",
    "score(X_train_ordinal, X_test_ordinal, y_train, y_test)"
   ]
  },
  {
   "cell_type": "code",
   "execution_count": 71,
   "id": "24427b11",
   "metadata": {
    "scrolled": true
   },
   "outputs": [
    {
     "name": "stderr",
     "output_type": "stream",
     "text": [
      "/home/arunachal/anaconda3/lib/python3.9/site-packages/sklearn/utils/validation.py:1688: FutureWarning: Feature names only support names that are all strings. Got feature names with dtypes: ['int', 'str']. An error will be raised in 1.2.\n",
      "  warnings.warn(\n",
      "/home/arunachal/anaconda3/lib/python3.9/site-packages/sklearn/utils/validation.py:1688: FutureWarning: Feature names only support names that are all strings. Got feature names with dtypes: ['int', 'str']. An error will be raised in 1.2.\n",
      "  warnings.warn(\n"
     ]
    },
    {
     "data": {
      "text/plain": [
       "0.15333861737297402"
      ]
     },
     "execution_count": 71,
     "metadata": {},
     "output_type": "execute_result"
    }
   ],
   "source": [
    "# return MAPE after one hot encoding columns with categorical data\n",
    "\n",
    "\n",
    "oh_encoder = OneHotEncoder(handle_unknown='ignore', sparse=False)\n",
    "\n",
    "oh_cols_train = pd.DataFrame(oh_encoder.fit_transform(X_train[cols_train_categorical]))\n",
    "oh_cols_test = pd.DataFrame(oh_encoder.fit_transform(X_test[cols_train_categorical]))\n",
    "\n",
    "oh_cols_train.index = X_train.index\n",
    "oh_cols_test.index = X_test.index\n",
    "\n",
    "X_train_num = X_train.drop(cols_train_categorical, axis = 1)\n",
    "X_test_num = X_test.drop(cols_train_categorical, axis = 1)\n",
    "\n",
    "X_train_oh = pd.concat([X_train_num, oh_cols_train], axis=1)\n",
    "X_test_oh = pd.concat([X_test_num, oh_cols_test], axis=1)\n",
    "\n",
    "score(X_train_oh, X_test_oh, y_train, y_test)"
   ]
  },
  {
   "cell_type": "code",
   "execution_count": 72,
   "id": "c3706603",
   "metadata": {},
   "outputs": [
    {
     "data": {
      "application/javascript": [
       "window.require && require([\"base/js/namespace\"],function(Jupyter){Jupyter.notebook.save_checkpoint()})"
      ],
      "text/plain": [
       "<IPython.core.display.Javascript object>"
      ]
     },
     "metadata": {},
     "output_type": "display_data"
    },
    {
     "name": "stdout",
     "output_type": "stream",
     "text": [
      "[jovian] Committed successfully! https://jovian.ai/kr-arunachal/error-comparison-dropping-ordinal-encoding-one-hot-encoding\u001b[0m\n"
     ]
    },
    {
     "data": {
      "text/plain": [
       "'https://jovian.ai/kr-arunachal/error-comparison-dropping-ordinal-encoding-one-hot-encoding'"
      ]
     },
     "execution_count": 72,
     "metadata": {},
     "output_type": "execute_result"
    }
   ],
   "source": [
    "jovian.commit()"
   ]
  },
  {
   "cell_type": "code",
   "execution_count": null,
   "id": "32a0c5c9",
   "metadata": {},
   "outputs": [],
   "source": []
  }
 ],
 "metadata": {
  "kernelspec": {
   "display_name": "Python 3 (ipykernel)",
   "language": "python",
   "name": "python3"
  },
  "language_info": {
   "codemirror_mode": {
    "name": "ipython",
    "version": 3
   },
   "file_extension": ".py",
   "mimetype": "text/x-python",
   "name": "python",
   "nbconvert_exporter": "python",
   "pygments_lexer": "ipython3",
   "version": "3.9.7"
  }
 },
 "nbformat": 4,
 "nbformat_minor": 5
}
