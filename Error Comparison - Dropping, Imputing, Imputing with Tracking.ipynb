{
 "cells": [
  {
   "cell_type": "code",
   "execution_count": 50,
   "id": "957c6f4f",
   "metadata": {},
   "outputs": [],
   "source": [
    "import pandas as pd\n",
    "from sklearn.model_selection import train_test_split\n",
    "from sklearn.impute import SimpleImputer\n",
    "from sklearn.ensemble import RandomForestRegressor\n",
    "from sklearn.metrics import mean_absolute_error"
   ]
  },
  {
   "cell_type": "code",
   "execution_count": 51,
   "id": "da4d78f8",
   "metadata": {},
   "outputs": [],
   "source": [
    "df = pd.read_csv('/media/arunachal/New Volume/Certification Courses/Kaggle/melb_data.csv')"
   ]
  },
  {
   "cell_type": "code",
   "execution_count": 52,
   "id": "8833b6f2",
   "metadata": {},
   "outputs": [],
   "source": [
    "y = df.Price"
   ]
  },
  {
   "cell_type": "code",
   "execution_count": 53,
   "id": "eabee10f",
   "metadata": {},
   "outputs": [],
   "source": [
    "X = df.drop(['Price'], axis = 1)"
   ]
  },
  {
   "cell_type": "code",
   "execution_count": 54,
   "id": "94409749",
   "metadata": {},
   "outputs": [],
   "source": [
    "x = X.select_dtypes(exclude = ['object'])"
   ]
  },
  {
   "cell_type": "code",
   "execution_count": 55,
   "id": "ff393cf7",
   "metadata": {},
   "outputs": [],
   "source": [
    "x_train, x_test,y_train, y_test = train_test_split(x, y, train_size = 0.8, test_size = 0.2, random_state = 0)"
   ]
  },
  {
   "cell_type": "code",
   "execution_count": 56,
   "id": "8526e1ee",
   "metadata": {},
   "outputs": [],
   "source": [
    "def score(x_train, x_test, y_train, y_test):\n",
    "    \n",
    "    model = RandomForestRegressor(n_estimators = 10, random_state = 0)\n",
    "    model.fit(x_train, y_train)\n",
    "    y_pred = model.predict(x_test)\n",
    "    \n",
    "    return mean_absolute_error(y_test, y_pred)"
   ]
  },
  {
   "cell_type": "code",
   "execution_count": 57,
   "id": "2c97f234",
   "metadata": {},
   "outputs": [
    {
     "data": {
      "text/plain": [
       "183550.22137772635"
      ]
     },
     "execution_count": 57,
     "metadata": {},
     "output_type": "execute_result"
    }
   ],
   "source": [
    "# error after dropping columns with null values\n",
    "\n",
    "cols_with_missing = [col for col in x.columns if x[col].isnull().any()]\n",
    "\n",
    "x_train_reduced = x_train.drop(cols_with_missing, axis = 1)\n",
    "x_test_reduced = x_test.drop(cols_with_missing, axis = 1)\n",
    "\n",
    "score(x_train_reduced, x_test_reduced, y_train, y_test)"
   ]
  },
  {
   "cell_type": "code",
   "execution_count": 65,
   "id": "e57b9489",
   "metadata": {},
   "outputs": [
    {
     "data": {
      "text/plain": [
       "179816.89508731329"
      ]
     },
     "execution_count": 65,
     "metadata": {},
     "output_type": "execute_result"
    }
   ],
   "source": [
    "# error after imputing columns with null values\n",
    "\n",
    "\n",
    "my_imputer = SimpleImputer()\n",
    "\n",
    "x_train_imputed = pd.DataFrame(my_imputer.fit_transform(x_train))\n",
    "x_test_imputed = pd.DataFrame(my_imputer.fit_transform(x_test))\n",
    "\n",
    "# re-assigning column names after imputing removed them\n",
    "\n",
    "x_train_imputed.columns = x_train.columns\n",
    "x_test_imputed.columns = x_test.columns\n",
    "\n",
    "score(x_train_imputed, x_test_imputed, y_train, y_test)"
   ]
  },
  {
   "cell_type": "code",
   "execution_count": 90,
   "id": "d5c72b46",
   "metadata": {},
   "outputs": [
    {
     "data": {
      "text/plain": [
       "179986.2708570026"
      ]
     },
     "execution_count": 90,
     "metadata": {},
     "output_type": "execute_result"
    }
   ],
   "source": [
    "# error after imputing columns with null values but keeping track of them\n",
    "\n",
    "\n",
    "x_train_plus = x_train.copy()\n",
    "x_test_plus = x_test.copy()\n",
    "\n",
    "# creating new columns to keep track of imputed columns\n",
    "\n",
    "for cols in cols_with_missing:\n",
    "    \n",
    "    x_train_plus[cols + '_is_missing'] = x_train_plus[cols].isnull()\n",
    "    x_test_plus[cols + '_is_missing'] = x_test_plus[cols].isnull()\n",
    "    \n",
    "# imputing columns with null values\n",
    "\n",
    "my_imputer = SimpleImputer()\n",
    "\n",
    "x_train_plus_imputed = pd.DataFrame(my_imputer.fit_transform(x_train_plus))\n",
    "x_test_plus_imputed = pd.DataFrame(my_imputer.fit_transform(x_test_plus))\n",
    "\n",
    "# re-assigning column names after imputing removed them\n",
    "\n",
    "x_train_plus_imputed.columns = x_train_plus.columns\n",
    "x_test_plus_imputed.columns = x_test_plus.columns\n",
    "\n",
    "score(x_train_plus_imputed, x_test_plus_imputed, y_train, y_test)"
   ]
  }
 ],
 "metadata": {
  "kernelspec": {
   "display_name": "Python 3 (ipykernel)",
   "language": "python",
   "name": "python3"
  },
  "language_info": {
   "codemirror_mode": {
    "name": "ipython",
    "version": 3
   },
   "file_extension": ".py",
   "mimetype": "text/x-python",
   "name": "python",
   "nbconvert_exporter": "python",
   "pygments_lexer": "ipython3",
   "version": "3.9.7"
  }
 },
 "nbformat": 4,
 "nbformat_minor": 5
}
